{
 "cells": [
  {
   "cell_type": "markdown",
   "metadata": {
    "id": "fKADPWcFKlj3"
   },
   "source": [
    "# **1. Import Library**"
   ]
  },
  {
   "cell_type": "markdown",
   "metadata": {
    "id": "LgA3ERnVn84N"
   },
   "source": [
    "Pada tahap ini, Anda perlu mengimpor beberapa pustaka (library) Python yang dibutuhkan untuk analisis data dan pembangunan model machine learning."
   ]
  },
  {
   "cell_type": "code",
   "execution_count": 37,
   "metadata": {
    "id": "BlmvjLY9M4Yj"
   },
   "outputs": [],
   "source": [
    "import pandas as pd\n",
    "from sklearn.model_selection import train_test_split\n",
    "from sklearn.metrics import classification_report\n",
    "from sklearn.ensemble import RandomForestClassifier\n",
    "from sklearn.tree import DecisionTreeClassifier\n",
    "from sklearn.linear_model import LogisticRegression\n",
    "from sklearn.metrics import mean_squared_error"
   ]
  },
  {
   "cell_type": "markdown",
   "metadata": {
    "id": "f3YIEnAFKrKL"
   },
   "source": [
    "# **2. Memuat Dataset dari Hasil Clustering**"
   ]
  },
  {
   "cell_type": "markdown",
   "metadata": {
    "id": "Ey3ItwTen_7E"
   },
   "source": [
    "Memuat dataset hasil clustering dari file CSV ke dalam variabel DataFrame."
   ]
  },
  {
   "cell_type": "code",
   "execution_count": 38,
   "metadata": {
    "colab": {
     "base_uri": "https://localhost:8080/",
     "height": 347
    },
    "id": "GHCGNTyrM5fS",
    "outputId": "face98a6-5cfe-450e-d8f0-c2cd6aa653c8"
   },
   "outputs": [
    {
     "data": {
      "text/html": [
       "<div>\n",
       "<style scoped>\n",
       "    .dataframe tbody tr th:only-of-type {\n",
       "        vertical-align: middle;\n",
       "    }\n",
       "\n",
       "    .dataframe tbody tr th {\n",
       "        vertical-align: top;\n",
       "    }\n",
       "\n",
       "    .dataframe thead th {\n",
       "        text-align: right;\n",
       "    }\n",
       "</style>\n",
       "<table border=\"1\" class=\"dataframe\">\n",
       "  <thead>\n",
       "    <tr style=\"text-align: right;\">\n",
       "      <th></th>\n",
       "      <th>Unnamed: 0</th>\n",
       "      <th>Make</th>\n",
       "      <th>Model</th>\n",
       "      <th>Vehicle Class</th>\n",
       "      <th>Engine Size(L)</th>\n",
       "      <th>Cylinders</th>\n",
       "      <th>Transmission</th>\n",
       "      <th>Fuel Type</th>\n",
       "      <th>Fuel Consumption City (L/100 km)</th>\n",
       "      <th>Fuel Consumption Hwy (L/100 km)</th>\n",
       "      <th>Fuel Consumption Comb (L/100 km)</th>\n",
       "      <th>Fuel Consumption Comb (mpg)</th>\n",
       "      <th>CO2 Emissions(g/km)</th>\n",
       "      <th>Outlier</th>\n",
       "      <th>cluster</th>\n",
       "    </tr>\n",
       "  </thead>\n",
       "  <tbody>\n",
       "    <tr>\n",
       "      <th>3643</th>\n",
       "      <td>3892</td>\n",
       "      <td>JEEP</td>\n",
       "      <td>COMPASS</td>\n",
       "      <td>SUV - SMALL</td>\n",
       "      <td>2.4</td>\n",
       "      <td>4</td>\n",
       "      <td>A6</td>\n",
       "      <td>X</td>\n",
       "      <td>11.3</td>\n",
       "      <td>8.7</td>\n",
       "      <td>10.1</td>\n",
       "      <td>28</td>\n",
       "      <td>238</td>\n",
       "      <td>1</td>\n",
       "      <td>0</td>\n",
       "    </tr>\n",
       "    <tr>\n",
       "      <th>2050</th>\n",
       "      <td>2253</td>\n",
       "      <td>AUDI</td>\n",
       "      <td>S5 QUATTRO</td>\n",
       "      <td>SUBCOMPACT</td>\n",
       "      <td>3.0</td>\n",
       "      <td>6</td>\n",
       "      <td>M6</td>\n",
       "      <td>Z</td>\n",
       "      <td>13.8</td>\n",
       "      <td>9.0</td>\n",
       "      <td>11.7</td>\n",
       "      <td>24</td>\n",
       "      <td>273</td>\n",
       "      <td>1</td>\n",
       "      <td>1</td>\n",
       "    </tr>\n",
       "    <tr>\n",
       "      <th>1274</th>\n",
       "      <td>1298</td>\n",
       "      <td>CHEVROLET</td>\n",
       "      <td>COLORADO</td>\n",
       "      <td>PICKUP TRUCK - SMALL</td>\n",
       "      <td>2.5</td>\n",
       "      <td>4</td>\n",
       "      <td>A6</td>\n",
       "      <td>X</td>\n",
       "      <td>11.9</td>\n",
       "      <td>8.8</td>\n",
       "      <td>10.5</td>\n",
       "      <td>27</td>\n",
       "      <td>242</td>\n",
       "      <td>1</td>\n",
       "      <td>0</td>\n",
       "    </tr>\n",
       "    <tr>\n",
       "      <th>4280</th>\n",
       "      <td>4635</td>\n",
       "      <td>CHRYSLER</td>\n",
       "      <td>300 FFV</td>\n",
       "      <td>FULL-SIZE</td>\n",
       "      <td>3.6</td>\n",
       "      <td>6</td>\n",
       "      <td>A8</td>\n",
       "      <td>X</td>\n",
       "      <td>12.4</td>\n",
       "      <td>7.8</td>\n",
       "      <td>10.3</td>\n",
       "      <td>27</td>\n",
       "      <td>242</td>\n",
       "      <td>1</td>\n",
       "      <td>0</td>\n",
       "    </tr>\n",
       "    <tr>\n",
       "      <th>2096</th>\n",
       "      <td>2303</td>\n",
       "      <td>BMW</td>\n",
       "      <td>535i xDRIVE</td>\n",
       "      <td>MID-SIZE</td>\n",
       "      <td>3.0</td>\n",
       "      <td>6</td>\n",
       "      <td>AS8</td>\n",
       "      <td>Z</td>\n",
       "      <td>11.9</td>\n",
       "      <td>8.1</td>\n",
       "      <td>10.2</td>\n",
       "      <td>28</td>\n",
       "      <td>238</td>\n",
       "      <td>1</td>\n",
       "      <td>1</td>\n",
       "    </tr>\n",
       "  </tbody>\n",
       "</table>\n",
       "</div>"
      ],
      "text/plain": [
       "      Unnamed: 0       Make        Model         Vehicle Class  \\\n",
       "3643        3892       JEEP      COMPASS           SUV - SMALL   \n",
       "2050        2253       AUDI   S5 QUATTRO            SUBCOMPACT   \n",
       "1274        1298  CHEVROLET     COLORADO  PICKUP TRUCK - SMALL   \n",
       "4280        4635   CHRYSLER      300 FFV             FULL-SIZE   \n",
       "2096        2303        BMW  535i xDRIVE              MID-SIZE   \n",
       "\n",
       "      Engine Size(L)  Cylinders Transmission Fuel Type  \\\n",
       "3643             2.4          4           A6         X   \n",
       "2050             3.0          6           M6         Z   \n",
       "1274             2.5          4           A6         X   \n",
       "4280             3.6          6           A8         X   \n",
       "2096             3.0          6          AS8         Z   \n",
       "\n",
       "      Fuel Consumption City (L/100 km)  Fuel Consumption Hwy (L/100 km)  \\\n",
       "3643                              11.3                              8.7   \n",
       "2050                              13.8                              9.0   \n",
       "1274                              11.9                              8.8   \n",
       "4280                              12.4                              7.8   \n",
       "2096                              11.9                              8.1   \n",
       "\n",
       "      Fuel Consumption Comb (L/100 km)  Fuel Consumption Comb (mpg)  \\\n",
       "3643                              10.1                           28   \n",
       "2050                              11.7                           24   \n",
       "1274                              10.5                           27   \n",
       "4280                              10.3                           27   \n",
       "2096                              10.2                           28   \n",
       "\n",
       "      CO2 Emissions(g/km)  Outlier  cluster  \n",
       "3643                  238        1        0  \n",
       "2050                  273        1        1  \n",
       "1274                  242        1        0  \n",
       "4280                  242        1        0  \n",
       "2096                  238        1        1  "
      ]
     },
     "execution_count": 38,
     "metadata": {},
     "output_type": "execute_result"
    }
   ],
   "source": [
    "train_df = pd.read_csv(\"clustered_co2.csv\")\n",
    "train_df.sample(5)"
   ]
  },
  {
   "cell_type": "markdown",
   "metadata": {
    "id": "KkPem5eWL2UP"
   },
   "source": [
    "# **3. Data Splitting**"
   ]
  },
  {
   "cell_type": "markdown",
   "metadata": {
    "id": "YYj1rl_JNI9Y"
   },
   "source": [
    "Tahap Data Splitting bertujuan untuk memisahkan dataset menjadi dua bagian: data latih (training set) dan data uji (test set)."
   ]
  },
  {
   "cell_type": "code",
   "execution_count": 39,
   "metadata": {
    "id": "OubAW-7ONKVj"
   },
   "outputs": [],
   "source": [
    "categorical_features = train_df.select_dtypes(include=['object']).columns\n",
    "X = train_df.drop(columns=['cluster', *categorical_features])\n",
    "y = train_df['cluster']\n",
    "\n",
    "X_train, X_test, y_train, y_test = train_test_split(X, y, test_size=0.2, random_state=12)"
   ]
  },
  {
   "cell_type": "code",
   "execution_count": 40,
   "metadata": {
    "colab": {
     "base_uri": "https://localhost:8080/"
    },
    "id": "zmbbFsKhA1jZ",
    "outputId": "31c271f8-9395-462f-ef16-a024501db036"
   },
   "outputs": [
    {
     "name": "stdout",
     "output_type": "stream",
     "text": [
      "Jumlah data:  6282\n",
      "Jumlah data latih:  5025\n",
      "Jumlah data test:  1257\n"
     ]
    }
   ],
   "source": [
    "# menghitung panjang/jumlah data\n",
    "print(\"Jumlah data: \",len(X))\n",
    "# menghitung panjang/jumlah data pada x_test\n",
    "print(\"Jumlah data latih: \",len(X_train))\n",
    "# menghitung panjang/jumlah data pada x_test\n",
    "print(\"Jumlah data test: \",len(X_test))"
   ]
  },
  {
   "cell_type": "markdown",
   "metadata": {
    "id": "IVPbB03CMhTT"
   },
   "source": [
    "# **4. Membangun Model Klasifikasi**\n"
   ]
  },
  {
   "cell_type": "markdown",
   "metadata": {
    "id": "Ned1pL9zMmBK"
   },
   "source": [
    "## **a. Membangun Model Klasifikasi**"
   ]
  },
  {
   "cell_type": "markdown",
   "metadata": {
    "id": "WAWzPOE4Nkti"
   },
   "source": [
    "Setelah memilih algoritma klasifikasi yang sesuai, langkah selanjutnya adalah melatih model menggunakan data latih.\n",
    "\n",
    "Berikut adalah rekomendasi tahapannya.\n",
    "1. Pilih algoritma klasifikasi yang sesuai, seperti Logistic Regression, Decision Tree, Random Forest, atau K-Nearest Neighbors (KNN).\n",
    "2. Latih model menggunakan data latih."
   ]
  },
  {
   "cell_type": "markdown",
   "metadata": {
    "id": "PsbGX-ZAFfVp"
   },
   "source": [
    "### random forest"
   ]
  },
  {
   "cell_type": "code",
   "execution_count": 41,
   "metadata": {
    "id": "4fiUkL_0BZbr"
   },
   "outputs": [],
   "source": [
    "RF_model = RandomForestClassifier()\n",
    "RF_model.fit(X_train, y_train)\n",
    "\n",
    "RF_y_train_pred = RF_model.predict(X_train)\n",
    "RF_y_test_pred = RF_model.predict(X_test)"
   ]
  },
  {
   "cell_type": "markdown",
   "metadata": {
    "id": "seYoHNY3XU1y"
   },
   "source": [
    "First, submitter will try to use random forest algorithm"
   ]
  },
  {
   "cell_type": "markdown",
   "metadata": {
    "id": "RpROXGG4Jgff"
   },
   "source": [
    "### logistic regression"
   ]
  },
  {
   "cell_type": "code",
   "execution_count": 42,
   "metadata": {
    "colab": {
     "base_uri": "https://localhost:8080/"
    },
    "id": "YuLXRDLhJRky",
    "outputId": "739d2570-90e7-4e49-d0e7-245b657a7143"
   },
   "outputs": [
    {
     "name": "stderr",
     "output_type": "stream",
     "text": [
      "/home/mendo/projects/python/ml_co2/venv/lib/python3.10/site-packages/sklearn/linear_model/_logistic.py:469: ConvergenceWarning: lbfgs failed to converge (status=1):\n",
      "STOP: TOTAL NO. of ITERATIONS REACHED LIMIT.\n",
      "\n",
      "Increase the number of iterations (max_iter) or scale the data as shown in:\n",
      "    https://scikit-learn.org/stable/modules/preprocessing.html\n",
      "Please also refer to the documentation for alternative solver options:\n",
      "    https://scikit-learn.org/stable/modules/linear_model.html#logistic-regression\n",
      "  n_iter_i = _check_optimize_result(\n"
     ]
    }
   ],
   "source": [
    "LR_model = LogisticRegression(max_iter=1000)\n",
    "LR_model.fit(X_train, y_train)\n",
    "\n",
    "LR_y_train_pred = LR_model.predict(X_train)\n",
    "LR_y_test_pred = LR_model.predict(X_test)"
   ]
  },
  {
   "cell_type": "markdown",
   "metadata": {
    "id": "sC2h6BJZJtZK"
   },
   "source": [
    "submitter also try logistic regression"
   ]
  },
  {
   "cell_type": "markdown",
   "metadata": {
    "id": "PftwuqVeKvEg"
   },
   "source": [
    "### Decission Tree"
   ]
  },
  {
   "cell_type": "code",
   "execution_count": 43,
   "metadata": {
    "id": "Qp_LOAyNKuxE"
   },
   "outputs": [],
   "source": [
    "DT_model = DecisionTreeClassifier()\n",
    "DT_model.fit(X_train, y_train)\n",
    "\n",
    "DT_y_train_pred = DT_model.predict(X_train)\n",
    "DT_y_test_pred = DT_model.predict(X_test)"
   ]
  },
  {
   "cell_type": "markdown",
   "metadata": {
    "id": "ergzChZFEL-O"
   },
   "source": [
    "## **b. Evaluasi Model Klasifikasi**"
   ]
  },
  {
   "cell_type": "markdown",
   "metadata": {
    "id": "zOm68u-7NpLT"
   },
   "source": [
    "Berikut adalah **rekomendasi** tahapannya.\n",
    "1. Lakukan prediksi menggunakan data uji.\n",
    "2. Hitung metrik evaluasi seperti Accuracy dan F1-Score (Opsional: Precision dan Recall).\n",
    "3. Buat confusion matrix untuk melihat detail prediksi benar dan salah."
   ]
  },
  {
   "cell_type": "markdown",
   "metadata": {
    "id": "yHje8xvOFwMs"
   },
   "source": [
    "### random forest"
   ]
  },
  {
   "cell_type": "code",
   "execution_count": 44,
   "metadata": {
    "colab": {
     "base_uri": "https://localhost:8080/"
    },
    "id": "tMq4QAssNLip",
    "outputId": "1b00671e-ea95-4091-c7c9-ddd9af9e279f"
   },
   "outputs": [
    {
     "name": "stdout",
     "output_type": "stream",
     "text": [
      "Training Set Classification Report:\n",
      "              precision    recall  f1-score   support\n",
      "\n",
      "           0       1.00      1.00      1.00      2544\n",
      "           1       1.00      1.00      1.00      2213\n",
      "           2       1.00      1.00      1.00       268\n",
      "\n",
      "    accuracy                           1.00      5025\n",
      "   macro avg       1.00      1.00      1.00      5025\n",
      "weighted avg       1.00      1.00      1.00      5025\n",
      "\n",
      "--------------------------------------------------\n",
      "Test Set Classification Report:\n",
      "              precision    recall  f1-score   support\n",
      "\n",
      "           0       0.92      0.94      0.93       643\n",
      "           1       0.92      0.90      0.91       552\n",
      "           2       1.00      1.00      1.00        62\n",
      "\n",
      "    accuracy                           0.93      1257\n",
      "   macro avg       0.95      0.95      0.95      1257\n",
      "weighted avg       0.93      0.93      0.93      1257\n",
      "\n"
     ]
    }
   ],
   "source": [
    "\n",
    "print(\"Training Set Classification Report:\")\n",
    "print(classification_report(y_train, RF_y_train_pred))\n",
    "print( '-' * 50)\n",
    "print(\"Test Set Classification Report:\")\n",
    "print(classification_report(y_test, RF_y_test_pred))"
   ]
  },
  {
   "cell_type": "markdown",
   "metadata": {
    "id": "H4_9OwrsXZlz"
   },
   "source": [
    "evaluation results for the Random Forest algorithm shows that this model have the average as follow: accuracy of 90%, recall of 95% and f1-score of 95% as well."
   ]
  },
  {
   "cell_type": "markdown",
   "metadata": {
    "id": "hWtIiBP9JJ54"
   },
   "source": [
    "### logistic regression"
   ]
  },
  {
   "cell_type": "code",
   "execution_count": 45,
   "metadata": {
    "colab": {
     "base_uri": "https://localhost:8080/"
    },
    "id": "KiJPNLaoJPAm",
    "outputId": "ad75a94a-8169-4dd7-9f8a-839d6e54d1fa"
   },
   "outputs": [
    {
     "name": "stdout",
     "output_type": "stream",
     "text": [
      "Training Set Classification Report:\n",
      "              precision    recall  f1-score   support\n",
      "\n",
      "           0       0.65      0.73      0.69      2544\n",
      "           1       0.64      0.56      0.60      2213\n",
      "           2       1.00      1.00      1.00       268\n",
      "\n",
      "    accuracy                           0.67      5025\n",
      "   macro avg       0.76      0.76      0.76      5025\n",
      "weighted avg       0.67      0.67      0.66      5025\n",
      "\n",
      "--------------------------------------------------\n",
      "Test Set Classification Report:\n",
      "              precision    recall  f1-score   support\n",
      "\n",
      "           0       0.65      0.71      0.68       643\n",
      "           1       0.62      0.55      0.58       552\n",
      "           2       1.00      1.00      1.00        62\n",
      "\n",
      "    accuracy                           0.65      1257\n",
      "   macro avg       0.76      0.75      0.75      1257\n",
      "weighted avg       0.65      0.65      0.65      1257\n",
      "\n"
     ]
    }
   ],
   "source": [
    "print(\"Training Set Classification Report:\")\n",
    "print(classification_report(y_train, LR_y_train_pred))\n",
    "print( '-' * 50)\n",
    "print(\"Test Set Classification Report:\")\n",
    "print(classification_report(y_test, LR_y_test_pred))"
   ]
  },
  {
   "cell_type": "markdown",
   "metadata": {
    "id": "OHwkbMjoLZ7U"
   },
   "source": [
    "### Decission Tree"
   ]
  },
  {
   "cell_type": "code",
   "execution_count": 46,
   "metadata": {
    "colab": {
     "base_uri": "https://localhost:8080/"
    },
    "id": "rCuXHKcRLc78",
    "outputId": "89647485-cc67-4a4d-e5a6-9de191b522a8"
   },
   "outputs": [
    {
     "name": "stdout",
     "output_type": "stream",
     "text": [
      "Training Set Classification Report:\n",
      "              precision    recall  f1-score   support\n",
      "\n",
      "           0       1.00      1.00      1.00      2544\n",
      "           1       1.00      1.00      1.00      2213\n",
      "           2       1.00      1.00      1.00       268\n",
      "\n",
      "    accuracy                           1.00      5025\n",
      "   macro avg       1.00      1.00      1.00      5025\n",
      "weighted avg       1.00      1.00      1.00      5025\n",
      "\n",
      "--------------------------------------------------\n",
      "Test Set Classification Report:\n",
      "              precision    recall  f1-score   support\n",
      "\n",
      "           0       0.92      0.91      0.91       643\n",
      "           1       0.89      0.90      0.90       552\n",
      "           2       1.00      1.00      1.00        62\n",
      "\n",
      "    accuracy                           0.91      1257\n",
      "   macro avg       0.94      0.94      0.94      1257\n",
      "weighted avg       0.91      0.91      0.91      1257\n",
      "\n"
     ]
    }
   ],
   "source": [
    "print(\"Training Set Classification Report:\")\n",
    "print(classification_report(y_train, DT_y_train_pred))\n",
    "print( '-' * 50)\n",
    "print(\"Test Set Classification Report:\")\n",
    "print(classification_report(y_test, DT_y_test_pred))"
   ]
  },
  {
   "cell_type": "code",
   "execution_count": 47,
   "metadata": {},
   "outputs": [
    {
     "name": "stdout",
     "output_type": "stream",
     "text": [
      "Decission tree MSE\n",
      "Training MSE with Decission Tree: 0.0\n",
      "Test MSE: 0.09148766905330151\n"
     ]
    }
   ],
   "source": [
    "train_mse = mean_squared_error(y_train, DT_y_train_pred)\n",
    "test_mse = mean_squared_error(y_test, DT_y_test_pred)\n",
    "\n",
    "print('Decission tree MSE') \n",
    "print(f'Training MSE with Decission Tree: {train_mse}')\n",
    "print(f'Test MSE: {test_mse}')"
   ]
  },
  {
   "cell_type": "code",
   "execution_count": 48,
   "metadata": {},
   "outputs": [
    {
     "name": "stdout",
     "output_type": "stream",
     "text": [
      "Random Forest MSE\n",
      "Training MSE: 0.0\n",
      "Test MSE: 0.07478122513922036\n"
     ]
    }
   ],
   "source": [
    "train_mse = mean_squared_error(y_train, RF_y_train_pred)\n",
    "test_mse = mean_squared_error(y_test, RF_y_test_pred)\n",
    "\n",
    "print('Random Forest MSE') \n",
    "print(f'Training MSE: {train_mse}')\n",
    "print(f'Test MSE: {test_mse}')"
   ]
  },
  {
   "cell_type": "markdown",
   "metadata": {
    "id": "ph9yIYDXEPuB"
   },
   "source": [
    "## **c. Tuning Model Klasifikasi (Optional)**"
   ]
  },
  {
   "cell_type": "markdown",
   "metadata": {
    "id": "-Bikx3LINv5e"
   },
   "source": [
    "Gunakan GridSearchCV, RandomizedSearchCV, atau metode lainnya untuk mencari kombinasi hyperparameter terbaik"
   ]
  },
  {
   "cell_type": "code",
   "execution_count": 49,
   "metadata": {
    "id": "winbFzb8NL95"
   },
   "outputs": [],
   "source": [
    "#Type your code here"
   ]
  },
  {
   "cell_type": "markdown",
   "metadata": {
    "id": "hE7pqlEPEYzI"
   },
   "source": [
    "## **d. Evaluasi Model Klasifikasi setelah Tuning (Optional)**"
   ]
  },
  {
   "cell_type": "markdown",
   "metadata": {
    "id": "feaPESoeN0zz"
   },
   "source": [
    "Berikut adalah rekomendasi tahapannya.\n",
    "1. Gunakan model dengan hyperparameter terbaik.\n",
    "2. Hitung ulang metrik evaluasi untuk melihat apakah ada peningkatan performa."
   ]
  },
  {
   "cell_type": "code",
   "execution_count": 50,
   "metadata": {
    "id": "HTXZRvEeNMb1"
   },
   "outputs": [],
   "source": [
    "#Type your code here"
   ]
  },
  {
   "cell_type": "markdown",
   "metadata": {
    "id": "ZRsOdm4uEgAW"
   },
   "source": [
    "## **e. Analisis Hasil Evaluasi Model Klasifikasi**"
   ]
  },
  {
   "cell_type": "markdown",
   "metadata": {
    "id": "T-Am3OsjUbvd"
   },
   "source": [
    "Submitter applied three different algorithm Random Forest, Logistic Regression and Decission Tree. Found that Random Forest and Decission Tree have perfect evaluation score on training set while logistic regression under performed by other.\n",
    "result shows that random forest have a better evaluation score overall by 95% average for each recall, precission, and f1-score followed by decission tree at 93% each. Which mean that both algorithm are able to truly classify car data to the correct cluster and indicate that the cluster well separated.\n",
    "\n",
    "Based on the evaluation process there is no tuning needed for Random Forest and Decission Tree while Logistic Regression may need hyperparameter tuning in order to improve overall evaluation score or try different feature."
   ]
  }
 ],
 "metadata": {
  "colab": {
   "provenance": [],
   "toc_visible": true
  },
  "kernelspec": {
   "display_name": "venv",
   "language": "python",
   "name": "python3"
  },
  "language_info": {
   "codemirror_mode": {
    "name": "ipython",
    "version": 3
   },
   "file_extension": ".py",
   "mimetype": "text/x-python",
   "name": "python",
   "nbconvert_exporter": "python",
   "pygments_lexer": "ipython3",
   "version": "3.10.12"
  }
 },
 "nbformat": 4,
 "nbformat_minor": 0
}
