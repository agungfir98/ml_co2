{
 "cells": [
  {
   "cell_type": "markdown",
   "metadata": {
    "id": "fKADPWcFKlj3"
   },
   "source": [
    "# **1. Import Library**"
   ]
  },
  {
   "cell_type": "markdown",
   "metadata": {
    "id": "LgA3ERnVn84N"
   },
   "source": [
    "Pada tahap ini, Anda perlu mengimpor beberapa pustaka (library) Python yang dibutuhkan untuk analisis data dan pembangunan model machine learning."
   ]
  },
  {
   "cell_type": "code",
   "execution_count": 1,
   "metadata": {
    "id": "BlmvjLY9M4Yj"
   },
   "outputs": [],
   "source": [
    "import pandas as pd\n",
    "from sklearn.model_selection import train_test_split\n",
    "from sklearn.metrics import classification_report\n",
    "from sklearn.ensemble import RandomForestClassifier\n",
    "from sklearn.tree import DecisionTreeClassifier\n",
    "from sklearn.linear_model import LogisticRegression"
   ]
  },
  {
   "cell_type": "markdown",
   "metadata": {
    "id": "f3YIEnAFKrKL"
   },
   "source": [
    "# **2. Memuat Dataset dari Hasil Clustering**"
   ]
  },
  {
   "cell_type": "markdown",
   "metadata": {
    "id": "Ey3ItwTen_7E"
   },
   "source": [
    "Memuat dataset hasil clustering dari file CSV ke dalam variabel DataFrame."
   ]
  },
  {
   "cell_type": "code",
   "execution_count": 2,
   "metadata": {
    "colab": {
     "base_uri": "https://localhost:8080/",
     "height": 347
    },
    "id": "GHCGNTyrM5fS",
    "outputId": "face98a6-5cfe-450e-d8f0-c2cd6aa653c8"
   },
   "outputs": [
    {
     "data": {
      "text/html": [
       "<div>\n",
       "<style scoped>\n",
       "    .dataframe tbody tr th:only-of-type {\n",
       "        vertical-align: middle;\n",
       "    }\n",
       "\n",
       "    .dataframe tbody tr th {\n",
       "        vertical-align: top;\n",
       "    }\n",
       "\n",
       "    .dataframe thead th {\n",
       "        text-align: right;\n",
       "    }\n",
       "</style>\n",
       "<table border=\"1\" class=\"dataframe\">\n",
       "  <thead>\n",
       "    <tr style=\"text-align: right;\">\n",
       "      <th></th>\n",
       "      <th>Unnamed: 0</th>\n",
       "      <th>Make</th>\n",
       "      <th>Model</th>\n",
       "      <th>Vehicle Class</th>\n",
       "      <th>Engine Size(L)</th>\n",
       "      <th>Cylinders</th>\n",
       "      <th>Transmission</th>\n",
       "      <th>Fuel Type</th>\n",
       "      <th>Fuel Consumption City (L/100 km)</th>\n",
       "      <th>Fuel Consumption Hwy (L/100 km)</th>\n",
       "      <th>Fuel Consumption Comb (L/100 km)</th>\n",
       "      <th>Fuel Consumption Comb (mpg)</th>\n",
       "      <th>CO2 Emissions(g/km)</th>\n",
       "      <th>Outlier</th>\n",
       "      <th>cluster</th>\n",
       "    </tr>\n",
       "  </thead>\n",
       "  <tbody>\n",
       "    <tr>\n",
       "      <th>3262</th>\n",
       "      <td>3484</td>\n",
       "      <td>CADILLAC</td>\n",
       "      <td>XTS AWD</td>\n",
       "      <td>FULL-SIZE</td>\n",
       "      <td>3.6</td>\n",
       "      <td>6</td>\n",
       "      <td>AS6</td>\n",
       "      <td>X</td>\n",
       "      <td>13.7</td>\n",
       "      <td>9.0</td>\n",
       "      <td>11.6</td>\n",
       "      <td>24</td>\n",
       "      <td>272</td>\n",
       "      <td>1</td>\n",
       "      <td>0</td>\n",
       "    </tr>\n",
       "    <tr>\n",
       "      <th>4048</th>\n",
       "      <td>4322</td>\n",
       "      <td>TOYOTA</td>\n",
       "      <td>YARIS HATCHBACK</td>\n",
       "      <td>COMPACT</td>\n",
       "      <td>1.5</td>\n",
       "      <td>4</td>\n",
       "      <td>M5</td>\n",
       "      <td>X</td>\n",
       "      <td>7.8</td>\n",
       "      <td>6.5</td>\n",
       "      <td>7.2</td>\n",
       "      <td>39</td>\n",
       "      <td>168</td>\n",
       "      <td>1</td>\n",
       "      <td>0</td>\n",
       "    </tr>\n",
       "    <tr>\n",
       "      <th>1297</th>\n",
       "      <td>1328</td>\n",
       "      <td>CHEVROLET</td>\n",
       "      <td>EXPRESS 3500 PASSENGER FFV</td>\n",
       "      <td>VAN - PASSENGER</td>\n",
       "      <td>6.0</td>\n",
       "      <td>8</td>\n",
       "      <td>A6</td>\n",
       "      <td>X</td>\n",
       "      <td>22.2</td>\n",
       "      <td>15.1</td>\n",
       "      <td>19.0</td>\n",
       "      <td>15</td>\n",
       "      <td>437</td>\n",
       "      <td>-1</td>\n",
       "      <td>0</td>\n",
       "    </tr>\n",
       "    <tr>\n",
       "      <th>5434</th>\n",
       "      <td>6172</td>\n",
       "      <td>MERCEDES-BENZ</td>\n",
       "      <td>AMG GLC 63 S 4MATIC+ Coupe</td>\n",
       "      <td>SUV - SMALL</td>\n",
       "      <td>4.0</td>\n",
       "      <td>8</td>\n",
       "      <td>A9</td>\n",
       "      <td>Z</td>\n",
       "      <td>15.0</td>\n",
       "      <td>10.9</td>\n",
       "      <td>13.2</td>\n",
       "      <td>21</td>\n",
       "      <td>309</td>\n",
       "      <td>1</td>\n",
       "      <td>1</td>\n",
       "    </tr>\n",
       "    <tr>\n",
       "      <th>1536</th>\n",
       "      <td>1632</td>\n",
       "      <td>INFINITI</td>\n",
       "      <td>Q70 AWD</td>\n",
       "      <td>MID-SIZE</td>\n",
       "      <td>5.6</td>\n",
       "      <td>8</td>\n",
       "      <td>AS7</td>\n",
       "      <td>Z</td>\n",
       "      <td>15.0</td>\n",
       "      <td>10.2</td>\n",
       "      <td>12.9</td>\n",
       "      <td>22</td>\n",
       "      <td>297</td>\n",
       "      <td>1</td>\n",
       "      <td>1</td>\n",
       "    </tr>\n",
       "  </tbody>\n",
       "</table>\n",
       "</div>"
      ],
      "text/plain": [
       "      Unnamed: 0           Make                       Model    Vehicle Class  \\\n",
       "3262        3484       CADILLAC                     XTS AWD        FULL-SIZE   \n",
       "4048        4322         TOYOTA             YARIS HATCHBACK          COMPACT   \n",
       "1297        1328      CHEVROLET  EXPRESS 3500 PASSENGER FFV  VAN - PASSENGER   \n",
       "5434        6172  MERCEDES-BENZ  AMG GLC 63 S 4MATIC+ Coupe      SUV - SMALL   \n",
       "1536        1632       INFINITI                     Q70 AWD         MID-SIZE   \n",
       "\n",
       "      Engine Size(L)  Cylinders Transmission Fuel Type  \\\n",
       "3262             3.6          6          AS6         X   \n",
       "4048             1.5          4           M5         X   \n",
       "1297             6.0          8           A6         X   \n",
       "5434             4.0          8           A9         Z   \n",
       "1536             5.6          8          AS7         Z   \n",
       "\n",
       "      Fuel Consumption City (L/100 km)  Fuel Consumption Hwy (L/100 km)  \\\n",
       "3262                              13.7                              9.0   \n",
       "4048                               7.8                              6.5   \n",
       "1297                              22.2                             15.1   \n",
       "5434                              15.0                             10.9   \n",
       "1536                              15.0                             10.2   \n",
       "\n",
       "      Fuel Consumption Comb (L/100 km)  Fuel Consumption Comb (mpg)  \\\n",
       "3262                              11.6                           24   \n",
       "4048                               7.2                           39   \n",
       "1297                              19.0                           15   \n",
       "5434                              13.2                           21   \n",
       "1536                              12.9                           22   \n",
       "\n",
       "      CO2 Emissions(g/km)  Outlier  cluster  \n",
       "3262                  272        1        0  \n",
       "4048                  168        1        0  \n",
       "1297                  437       -1        0  \n",
       "5434                  309        1        1  \n",
       "1536                  297        1        1  "
      ]
     },
     "execution_count": 2,
     "metadata": {},
     "output_type": "execute_result"
    }
   ],
   "source": [
    "train_df = pd.read_csv(\"clustered_co2.csv\")\n",
    "train_df.sample(5)"
   ]
  },
  {
   "cell_type": "markdown",
   "metadata": {
    "id": "KkPem5eWL2UP"
   },
   "source": [
    "# **3. Data Splitting**"
   ]
  },
  {
   "cell_type": "markdown",
   "metadata": {
    "id": "YYj1rl_JNI9Y"
   },
   "source": [
    "Tahap Data Splitting bertujuan untuk memisahkan dataset menjadi dua bagian: data latih (training set) dan data uji (test set)."
   ]
  },
  {
   "cell_type": "code",
   "execution_count": 3,
   "metadata": {
    "id": "OubAW-7ONKVj"
   },
   "outputs": [],
   "source": [
    "categorical_features = train_df.select_dtypes(include=['object']).columns\n",
    "X = train_df.drop(columns=['cluster', *categorical_features])\n",
    "y = train_df['cluster']\n",
    "\n",
    "X_train, X_test, y_train, y_test = train_test_split(X, y, test_size=0.2, random_state=12)"
   ]
  },
  {
   "cell_type": "code",
   "execution_count": 4,
   "metadata": {
    "colab": {
     "base_uri": "https://localhost:8080/"
    },
    "id": "zmbbFsKhA1jZ",
    "outputId": "31c271f8-9395-462f-ef16-a024501db036"
   },
   "outputs": [
    {
     "name": "stdout",
     "output_type": "stream",
     "text": [
      "Jumlah data:  6282\n",
      "Jumlah data latih:  5025\n",
      "Jumlah data test:  1257\n"
     ]
    }
   ],
   "source": [
    "# menghitung panjang/jumlah data\n",
    "print(\"Jumlah data: \",len(X))\n",
    "# menghitung panjang/jumlah data pada x_test\n",
    "print(\"Jumlah data latih: \",len(X_train))\n",
    "# menghitung panjang/jumlah data pada x_test\n",
    "print(\"Jumlah data test: \",len(X_test))"
   ]
  },
  {
   "cell_type": "markdown",
   "metadata": {
    "id": "IVPbB03CMhTT"
   },
   "source": [
    "# **4. Membangun Model Klasifikasi**\n"
   ]
  },
  {
   "cell_type": "markdown",
   "metadata": {
    "id": "Ned1pL9zMmBK"
   },
   "source": [
    "## **a. Membangun Model Klasifikasi**"
   ]
  },
  {
   "cell_type": "markdown",
   "metadata": {
    "id": "WAWzPOE4Nkti"
   },
   "source": [
    "Setelah memilih algoritma klasifikasi yang sesuai, langkah selanjutnya adalah melatih model menggunakan data latih.\n",
    "\n",
    "Berikut adalah rekomendasi tahapannya.\n",
    "1. Pilih algoritma klasifikasi yang sesuai, seperti Logistic Regression, Decision Tree, Random Forest, atau K-Nearest Neighbors (KNN).\n",
    "2. Latih model menggunakan data latih."
   ]
  },
  {
   "cell_type": "markdown",
   "metadata": {
    "id": "PsbGX-ZAFfVp"
   },
   "source": [
    "### random forest"
   ]
  },
  {
   "cell_type": "code",
   "execution_count": 5,
   "metadata": {
    "id": "4fiUkL_0BZbr"
   },
   "outputs": [],
   "source": [
    "RF_model = RandomForestClassifier()\n",
    "RF_model.fit(X_train, y_train)\n",
    "\n",
    "RF_y_train_pred = RF_model.predict(X_train)\n",
    "RF_y_test_pred = RF_model.predict(X_test)"
   ]
  },
  {
   "cell_type": "markdown",
   "metadata": {
    "id": "seYoHNY3XU1y"
   },
   "source": [
    "First, submitter will try to use random forest algorithm"
   ]
  },
  {
   "cell_type": "markdown",
   "metadata": {
    "id": "RpROXGG4Jgff"
   },
   "source": [
    "### logistic regression"
   ]
  },
  {
   "cell_type": "code",
   "execution_count": 6,
   "metadata": {
    "colab": {
     "base_uri": "https://localhost:8080/"
    },
    "id": "YuLXRDLhJRky",
    "outputId": "739d2570-90e7-4e49-d0e7-245b657a7143"
   },
   "outputs": [
    {
     "name": "stderr",
     "output_type": "stream",
     "text": [
      "/home/mendo/projects/python/ml_co2/venv/lib/python3.10/site-packages/sklearn/linear_model/_logistic.py:469: ConvergenceWarning: lbfgs failed to converge (status=1):\n",
      "STOP: TOTAL NO. of ITERATIONS REACHED LIMIT.\n",
      "\n",
      "Increase the number of iterations (max_iter) or scale the data as shown in:\n",
      "    https://scikit-learn.org/stable/modules/preprocessing.html\n",
      "Please also refer to the documentation for alternative solver options:\n",
      "    https://scikit-learn.org/stable/modules/linear_model.html#logistic-regression\n",
      "  n_iter_i = _check_optimize_result(\n"
     ]
    }
   ],
   "source": [
    "LR_model = LogisticRegression(max_iter=1000)\n",
    "LR_model.fit(X_train, y_train)\n",
    "\n",
    "LR_y_train_pred = LR_model.predict(X_train)\n",
    "LR_y_test_pred = LR_model.predict(X_test)"
   ]
  },
  {
   "cell_type": "markdown",
   "metadata": {
    "id": "sC2h6BJZJtZK"
   },
   "source": [
    "submitter also try logistic regression"
   ]
  },
  {
   "cell_type": "markdown",
   "metadata": {
    "id": "PftwuqVeKvEg"
   },
   "source": [
    "### Decission Tree"
   ]
  },
  {
   "cell_type": "code",
   "execution_count": 7,
   "metadata": {
    "id": "Qp_LOAyNKuxE"
   },
   "outputs": [],
   "source": [
    "DT_model = DecisionTreeClassifier()\n",
    "DT_model.fit(X_train, y_train)\n",
    "\n",
    "DT_y_train_pred = DT_model.predict(X_train)\n",
    "DT_y_test_pred = DT_model.predict(X_test)"
   ]
  },
  {
   "cell_type": "markdown",
   "metadata": {
    "id": "ergzChZFEL-O"
   },
   "source": [
    "## **b. Evaluasi Model Klasifikasi**"
   ]
  },
  {
   "cell_type": "markdown",
   "metadata": {
    "id": "zOm68u-7NpLT"
   },
   "source": [
    "Berikut adalah **rekomendasi** tahapannya.\n",
    "1. Lakukan prediksi menggunakan data uji.\n",
    "2. Hitung metrik evaluasi seperti Accuracy dan F1-Score (Opsional: Precision dan Recall).\n",
    "3. Buat confusion matrix untuk melihat detail prediksi benar dan salah."
   ]
  },
  {
   "cell_type": "markdown",
   "metadata": {
    "id": "yHje8xvOFwMs"
   },
   "source": [
    "### random forest"
   ]
  },
  {
   "cell_type": "code",
   "execution_count": 8,
   "metadata": {
    "colab": {
     "base_uri": "https://localhost:8080/"
    },
    "id": "tMq4QAssNLip",
    "outputId": "1b00671e-ea95-4091-c7c9-ddd9af9e279f"
   },
   "outputs": [
    {
     "name": "stdout",
     "output_type": "stream",
     "text": [
      "Training Set Classification Report:\n",
      "              precision    recall  f1-score   support\n",
      "\n",
      "           0       1.00      1.00      1.00      2544\n",
      "           1       1.00      1.00      1.00      2213\n",
      "           2       1.00      1.00      1.00       268\n",
      "\n",
      "    accuracy                           1.00      5025\n",
      "   macro avg       1.00      1.00      1.00      5025\n",
      "weighted avg       1.00      1.00      1.00      5025\n",
      "\n",
      "--------------------------------------------------\n",
      "Test Set Classification Report:\n",
      "              precision    recall  f1-score   support\n",
      "\n",
      "           0       0.92      0.94      0.93       643\n",
      "           1       0.92      0.91      0.91       552\n",
      "           2       1.00      1.00      1.00        62\n",
      "\n",
      "    accuracy                           0.93      1257\n",
      "   macro avg       0.95      0.95      0.95      1257\n",
      "weighted avg       0.93      0.93      0.93      1257\n",
      "\n"
     ]
    }
   ],
   "source": [
    "\n",
    "print(\"Training Set Classification Report:\")\n",
    "print(classification_report(y_train, RF_y_train_pred))\n",
    "print( '-' * 50)\n",
    "print(\"Test Set Classification Report:\")\n",
    "print(classification_report(y_test, RF_y_test_pred))"
   ]
  },
  {
   "cell_type": "markdown",
   "metadata": {
    "id": "H4_9OwrsXZlz"
   },
   "source": [
    "evaluation results for the Random Forest algorithm shows that this model have the average as follow: accuracy of 90%, recall of 95% and f1-score of 95% as well."
   ]
  },
  {
   "cell_type": "markdown",
   "metadata": {
    "id": "hWtIiBP9JJ54"
   },
   "source": [
    "### logistic regression"
   ]
  },
  {
   "cell_type": "code",
   "execution_count": 9,
   "metadata": {
    "colab": {
     "base_uri": "https://localhost:8080/"
    },
    "id": "KiJPNLaoJPAm",
    "outputId": "ad75a94a-8169-4dd7-9f8a-839d6e54d1fa"
   },
   "outputs": [
    {
     "name": "stdout",
     "output_type": "stream",
     "text": [
      "Training Set Classification Report:\n",
      "              precision    recall  f1-score   support\n",
      "\n",
      "           0       0.65      0.73      0.69      2544\n",
      "           1       0.64      0.56      0.60      2213\n",
      "           2       1.00      1.00      1.00       268\n",
      "\n",
      "    accuracy                           0.67      5025\n",
      "   macro avg       0.76      0.76      0.76      5025\n",
      "weighted avg       0.67      0.67      0.66      5025\n",
      "\n",
      "--------------------------------------------------\n",
      "Test Set Classification Report:\n",
      "              precision    recall  f1-score   support\n",
      "\n",
      "           0       0.65      0.71      0.68       643\n",
      "           1       0.62      0.55      0.58       552\n",
      "           2       1.00      1.00      1.00        62\n",
      "\n",
      "    accuracy                           0.65      1257\n",
      "   macro avg       0.76      0.75      0.75      1257\n",
      "weighted avg       0.65      0.65      0.65      1257\n",
      "\n"
     ]
    }
   ],
   "source": [
    "print(\"Training Set Classification Report:\")\n",
    "print(classification_report(y_train, LR_y_train_pred))\n",
    "print( '-' * 50)\n",
    "print(\"Test Set Classification Report:\")\n",
    "print(classification_report(y_test, LR_y_test_pred))"
   ]
  },
  {
   "cell_type": "markdown",
   "metadata": {
    "id": "OHwkbMjoLZ7U"
   },
   "source": [
    "### Decission Tree"
   ]
  },
  {
   "cell_type": "code",
   "execution_count": 10,
   "metadata": {
    "colab": {
     "base_uri": "https://localhost:8080/"
    },
    "id": "rCuXHKcRLc78",
    "outputId": "89647485-cc67-4a4d-e5a6-9de191b522a8"
   },
   "outputs": [
    {
     "name": "stdout",
     "output_type": "stream",
     "text": [
      "Training Set Classification Report:\n",
      "              precision    recall  f1-score   support\n",
      "\n",
      "           0       1.00      1.00      1.00      2544\n",
      "           1       1.00      1.00      1.00      2213\n",
      "           2       1.00      1.00      1.00       268\n",
      "\n",
      "    accuracy                           1.00      5025\n",
      "   macro avg       1.00      1.00      1.00      5025\n",
      "weighted avg       1.00      1.00      1.00      5025\n",
      "\n",
      "--------------------------------------------------\n",
      "Test Set Classification Report:\n",
      "              precision    recall  f1-score   support\n",
      "\n",
      "           0       0.92      0.89      0.90       643\n",
      "           1       0.87      0.90      0.89       552\n",
      "           2       1.00      1.00      1.00        62\n",
      "\n",
      "    accuracy                           0.90      1257\n",
      "   macro avg       0.93      0.93      0.93      1257\n",
      "weighted avg       0.90      0.90      0.90      1257\n",
      "\n"
     ]
    }
   ],
   "source": [
    "print(\"Training Set Classification Report:\")\n",
    "print(classification_report(y_train, DT_y_train_pred))\n",
    "print( '-' * 50)\n",
    "print(\"Test Set Classification Report:\")\n",
    "print(classification_report(y_test, DT_y_test_pred))"
   ]
  },
  {
   "cell_type": "markdown",
   "metadata": {
    "id": "ph9yIYDXEPuB"
   },
   "source": [
    "## **c. Tuning Model Klasifikasi (Optional)**"
   ]
  },
  {
   "cell_type": "markdown",
   "metadata": {
    "id": "-Bikx3LINv5e"
   },
   "source": [
    "Gunakan GridSearchCV, RandomizedSearchCV, atau metode lainnya untuk mencari kombinasi hyperparameter terbaik"
   ]
  },
  {
   "cell_type": "code",
   "execution_count": 11,
   "metadata": {
    "id": "winbFzb8NL95"
   },
   "outputs": [],
   "source": [
    "#Type your code here"
   ]
  },
  {
   "cell_type": "markdown",
   "metadata": {
    "id": "hE7pqlEPEYzI"
   },
   "source": [
    "## **d. Evaluasi Model Klasifikasi setelah Tuning (Optional)**"
   ]
  },
  {
   "cell_type": "markdown",
   "metadata": {
    "id": "feaPESoeN0zz"
   },
   "source": [
    "Berikut adalah rekomendasi tahapannya.\n",
    "1. Gunakan model dengan hyperparameter terbaik.\n",
    "2. Hitung ulang metrik evaluasi untuk melihat apakah ada peningkatan performa."
   ]
  },
  {
   "cell_type": "code",
   "execution_count": 12,
   "metadata": {
    "id": "HTXZRvEeNMb1"
   },
   "outputs": [],
   "source": [
    "#Type your code here"
   ]
  },
  {
   "cell_type": "markdown",
   "metadata": {
    "id": "ZRsOdm4uEgAW"
   },
   "source": [
    "## **e. Analisis Hasil Evaluasi Model Klasifikasi**"
   ]
  },
  {
   "cell_type": "markdown",
   "metadata": {
    "id": "T-Am3OsjUbvd"
   },
   "source": [
    "submitter applying three different algorithm Random Forest, Logistic Regression and Decission Tree. Found that Random Forest and Decission Tree have perfect evaluation score on training set while logistic regression have the worst of three.\n",
    "result shows that random forest have a better evaluation score overall by 95% average for each recall, precission, and f1-score followed by decission tree at 93% each. Thus we can use either Decission Tree or Random Forest"
   ]
  }
 ],
 "metadata": {
  "colab": {
   "provenance": [],
   "toc_visible": true
  },
  "kernelspec": {
   "display_name": "venv",
   "language": "python",
   "name": "python3"
  },
  "language_info": {
   "codemirror_mode": {
    "name": "ipython",
    "version": 3
   },
   "file_extension": ".py",
   "mimetype": "text/x-python",
   "name": "python",
   "nbconvert_exporter": "python",
   "pygments_lexer": "ipython3",
   "version": "3.10.12"
  }
 },
 "nbformat": 4,
 "nbformat_minor": 0
}
