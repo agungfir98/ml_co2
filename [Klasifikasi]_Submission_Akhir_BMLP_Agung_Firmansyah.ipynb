{
 "cells": [
  {
   "cell_type": "markdown",
   "metadata": {
    "id": "fKADPWcFKlj3"
   },
   "source": [
    "# **1. Import Library**"
   ]
  },
  {
   "cell_type": "markdown",
   "metadata": {
    "id": "LgA3ERnVn84N"
   },
   "source": [
    "Pada tahap ini, Anda perlu mengimpor beberapa pustaka (library) Python yang dibutuhkan untuk analisis data dan pembangunan model machine learning."
   ]
  },
  {
   "cell_type": "code",
   "execution_count": 1,
   "metadata": {
    "id": "BlmvjLY9M4Yj"
   },
   "outputs": [],
   "source": [
    "import pandas as pd\n",
    "from sklearn.model_selection import train_test_split\n",
    "from sklearn.metrics import classification_report\n",
    "from sklearn.ensemble import RandomForestClassifier\n",
    "from sklearn.tree import DecisionTreeClassifier\n",
    "from sklearn.linear_model import LogisticRegression"
   ]
  },
  {
   "cell_type": "markdown",
   "metadata": {
    "id": "f3YIEnAFKrKL"
   },
   "source": [
    "# **2. Memuat Dataset dari Hasil Clustering**"
   ]
  },
  {
   "cell_type": "markdown",
   "metadata": {
    "id": "Ey3ItwTen_7E"
   },
   "source": [
    "Memuat dataset hasil clustering dari file CSV ke dalam variabel DataFrame."
   ]
  },
  {
   "cell_type": "code",
   "execution_count": 2,
   "metadata": {
    "colab": {
     "base_uri": "https://localhost:8080/",
     "height": 347
    },
    "id": "GHCGNTyrM5fS",
    "outputId": "face98a6-5cfe-450e-d8f0-c2cd6aa653c8"
   },
   "outputs": [
    {
     "data": {
      "text/html": [
       "<div>\n",
       "<style scoped>\n",
       "    .dataframe tbody tr th:only-of-type {\n",
       "        vertical-align: middle;\n",
       "    }\n",
       "\n",
       "    .dataframe tbody tr th {\n",
       "        vertical-align: top;\n",
       "    }\n",
       "\n",
       "    .dataframe thead th {\n",
       "        text-align: right;\n",
       "    }\n",
       "</style>\n",
       "<table border=\"1\" class=\"dataframe\">\n",
       "  <thead>\n",
       "    <tr style=\"text-align: right;\">\n",
       "      <th></th>\n",
       "      <th>Unnamed: 0</th>\n",
       "      <th>Make</th>\n",
       "      <th>Model</th>\n",
       "      <th>Vehicle Class</th>\n",
       "      <th>Engine Size(L)</th>\n",
       "      <th>Cylinders</th>\n",
       "      <th>Transmission</th>\n",
       "      <th>Fuel Type</th>\n",
       "      <th>Fuel Consumption City (L/100 km)</th>\n",
       "      <th>Fuel Consumption Hwy (L/100 km)</th>\n",
       "      <th>Fuel Consumption Comb (L/100 km)</th>\n",
       "      <th>Fuel Consumption Comb (mpg)</th>\n",
       "      <th>CO2 Emissions(g/km)</th>\n",
       "      <th>Outlier</th>\n",
       "      <th>cluster</th>\n",
       "    </tr>\n",
       "  </thead>\n",
       "  <tbody>\n",
       "    <tr>\n",
       "      <th>1682</th>\n",
       "      <td>1830</td>\n",
       "      <td>MERCEDES-BENZ</td>\n",
       "      <td>B 250 4MATIC</td>\n",
       "      <td>STATION WAGON - SMALL</td>\n",
       "      <td>2.0</td>\n",
       "      <td>4</td>\n",
       "      <td>AS7</td>\n",
       "      <td>Z</td>\n",
       "      <td>10.0</td>\n",
       "      <td>7.5</td>\n",
       "      <td>8.9</td>\n",
       "      <td>32</td>\n",
       "      <td>205</td>\n",
       "      <td>1</td>\n",
       "      <td>1</td>\n",
       "    </tr>\n",
       "    <tr>\n",
       "      <th>1354</th>\n",
       "      <td>1401</td>\n",
       "      <td>DODGE</td>\n",
       "      <td>CHARGER FFV</td>\n",
       "      <td>FULL-SIZE</td>\n",
       "      <td>3.6</td>\n",
       "      <td>6</td>\n",
       "      <td>A5</td>\n",
       "      <td>E</td>\n",
       "      <td>18.7</td>\n",
       "      <td>12.4</td>\n",
       "      <td>15.9</td>\n",
       "      <td>18</td>\n",
       "      <td>254</td>\n",
       "      <td>1</td>\n",
       "      <td>2</td>\n",
       "    </tr>\n",
       "    <tr>\n",
       "      <th>1914</th>\n",
       "      <td>2110</td>\n",
       "      <td>TOYOTA</td>\n",
       "      <td>HIGHLANDER AWD</td>\n",
       "      <td>SUV - STANDARD</td>\n",
       "      <td>3.5</td>\n",
       "      <td>6</td>\n",
       "      <td>AS6</td>\n",
       "      <td>X</td>\n",
       "      <td>13.0</td>\n",
       "      <td>9.8</td>\n",
       "      <td>11.6</td>\n",
       "      <td>24</td>\n",
       "      <td>267</td>\n",
       "      <td>1</td>\n",
       "      <td>0</td>\n",
       "    </tr>\n",
       "    <tr>\n",
       "      <th>5877</th>\n",
       "      <td>6661</td>\n",
       "      <td>CADILLAC</td>\n",
       "      <td>CT5 AWD</td>\n",
       "      <td>MID-SIZE</td>\n",
       "      <td>3.0</td>\n",
       "      <td>6</td>\n",
       "      <td>AS10</td>\n",
       "      <td>Z</td>\n",
       "      <td>13.3</td>\n",
       "      <td>9.3</td>\n",
       "      <td>11.5</td>\n",
       "      <td>25</td>\n",
       "      <td>268</td>\n",
       "      <td>1</td>\n",
       "      <td>1</td>\n",
       "    </tr>\n",
       "    <tr>\n",
       "      <th>4435</th>\n",
       "      <td>4872</td>\n",
       "      <td>HONDA</td>\n",
       "      <td>CIVIC SEDAN Si</td>\n",
       "      <td>MID-SIZE</td>\n",
       "      <td>1.5</td>\n",
       "      <td>4</td>\n",
       "      <td>M6</td>\n",
       "      <td>Z</td>\n",
       "      <td>8.4</td>\n",
       "      <td>6.2</td>\n",
       "      <td>7.4</td>\n",
       "      <td>38</td>\n",
       "      <td>173</td>\n",
       "      <td>1</td>\n",
       "      <td>1</td>\n",
       "    </tr>\n",
       "  </tbody>\n",
       "</table>\n",
       "</div>"
      ],
      "text/plain": [
       "      Unnamed: 0           Make           Model          Vehicle Class  \\\n",
       "1682        1830  MERCEDES-BENZ    B 250 4MATIC  STATION WAGON - SMALL   \n",
       "1354        1401          DODGE     CHARGER FFV              FULL-SIZE   \n",
       "1914        2110         TOYOTA  HIGHLANDER AWD         SUV - STANDARD   \n",
       "5877        6661       CADILLAC         CT5 AWD               MID-SIZE   \n",
       "4435        4872          HONDA  CIVIC SEDAN Si               MID-SIZE   \n",
       "\n",
       "      Engine Size(L)  Cylinders Transmission Fuel Type  \\\n",
       "1682             2.0          4          AS7         Z   \n",
       "1354             3.6          6           A5         E   \n",
       "1914             3.5          6          AS6         X   \n",
       "5877             3.0          6         AS10         Z   \n",
       "4435             1.5          4           M6         Z   \n",
       "\n",
       "      Fuel Consumption City (L/100 km)  Fuel Consumption Hwy (L/100 km)  \\\n",
       "1682                              10.0                              7.5   \n",
       "1354                              18.7                             12.4   \n",
       "1914                              13.0                              9.8   \n",
       "5877                              13.3                              9.3   \n",
       "4435                               8.4                              6.2   \n",
       "\n",
       "      Fuel Consumption Comb (L/100 km)  Fuel Consumption Comb (mpg)  \\\n",
       "1682                               8.9                           32   \n",
       "1354                              15.9                           18   \n",
       "1914                              11.6                           24   \n",
       "5877                              11.5                           25   \n",
       "4435                               7.4                           38   \n",
       "\n",
       "      CO2 Emissions(g/km)  Outlier  cluster  \n",
       "1682                  205        1        1  \n",
       "1354                  254        1        2  \n",
       "1914                  267        1        0  \n",
       "5877                  268        1        1  \n",
       "4435                  173        1        1  "
      ]
     },
     "execution_count": 2,
     "metadata": {},
     "output_type": "execute_result"
    }
   ],
   "source": [
    "train_df = pd.read_csv(\"clustered_co2.csv\")\n",
    "train_df.sample(5)"
   ]
  },
  {
   "cell_type": "markdown",
   "metadata": {
    "id": "KkPem5eWL2UP"
   },
   "source": [
    "# **3. Data Splitting**"
   ]
  },
  {
   "cell_type": "markdown",
   "metadata": {
    "id": "YYj1rl_JNI9Y"
   },
   "source": [
    "Tahap Data Splitting bertujuan untuk memisahkan dataset menjadi dua bagian: data latih (training set) dan data uji (test set)."
   ]
  },
  {
   "cell_type": "code",
   "execution_count": 3,
   "metadata": {
    "id": "OubAW-7ONKVj"
   },
   "outputs": [],
   "source": [
    "categorical_features = train_df.select_dtypes(include=['object']).columns\n",
    "X = train_df.drop(columns=['cluster', *categorical_features])\n",
    "y = train_df['cluster']\n",
    "\n",
    "X_train, X_test, y_train, y_test = train_test_split(X, y, test_size=0.2, random_state=12)"
   ]
  },
  {
   "cell_type": "code",
   "execution_count": 4,
   "metadata": {
    "colab": {
     "base_uri": "https://localhost:8080/"
    },
    "id": "zmbbFsKhA1jZ",
    "outputId": "31c271f8-9395-462f-ef16-a024501db036"
   },
   "outputs": [
    {
     "name": "stdout",
     "output_type": "stream",
     "text": [
      "Jumlah data:  6282\n",
      "Jumlah data latih:  5025\n",
      "Jumlah data test:  1257\n"
     ]
    }
   ],
   "source": [
    "# menghitung panjang/jumlah data\n",
    "print(\"Jumlah data: \",len(X))\n",
    "# menghitung panjang/jumlah data pada x_test\n",
    "print(\"Jumlah data latih: \",len(X_train))\n",
    "# menghitung panjang/jumlah data pada x_test\n",
    "print(\"Jumlah data test: \",len(X_test))"
   ]
  },
  {
   "cell_type": "markdown",
   "metadata": {
    "id": "IVPbB03CMhTT"
   },
   "source": [
    "# **4. Membangun Model Klasifikasi**\n"
   ]
  },
  {
   "cell_type": "markdown",
   "metadata": {
    "id": "Ned1pL9zMmBK"
   },
   "source": [
    "## **a. Membangun Model Klasifikasi**"
   ]
  },
  {
   "cell_type": "markdown",
   "metadata": {
    "id": "WAWzPOE4Nkti"
   },
   "source": [
    "Setelah memilih algoritma klasifikasi yang sesuai, langkah selanjutnya adalah melatih model menggunakan data latih.\n",
    "\n",
    "Berikut adalah rekomendasi tahapannya.\n",
    "1. Pilih algoritma klasifikasi yang sesuai, seperti Logistic Regression, Decision Tree, Random Forest, atau K-Nearest Neighbors (KNN).\n",
    "2. Latih model menggunakan data latih."
   ]
  },
  {
   "cell_type": "markdown",
   "metadata": {
    "id": "PsbGX-ZAFfVp"
   },
   "source": [
    "### random forest"
   ]
  },
  {
   "cell_type": "code",
   "execution_count": 5,
   "metadata": {
    "id": "4fiUkL_0BZbr"
   },
   "outputs": [],
   "source": [
    "RF_model = RandomForestClassifier()\n",
    "RF_model.fit(X_train, y_train)\n",
    "\n",
    "RF_y_train_pred = RF_model.predict(X_train)\n",
    "RF_y_test_pred = RF_model.predict(X_test)"
   ]
  },
  {
   "cell_type": "markdown",
   "metadata": {
    "id": "seYoHNY3XU1y"
   },
   "source": [
    "First, submitter will try to use random forest algorithm"
   ]
  },
  {
   "cell_type": "markdown",
   "metadata": {
    "id": "RpROXGG4Jgff"
   },
   "source": [
    "### logistic regression"
   ]
  },
  {
   "cell_type": "code",
   "execution_count": 6,
   "metadata": {
    "colab": {
     "base_uri": "https://localhost:8080/"
    },
    "id": "YuLXRDLhJRky",
    "outputId": "739d2570-90e7-4e49-d0e7-245b657a7143"
   },
   "outputs": [
    {
     "name": "stderr",
     "output_type": "stream",
     "text": [
      "/home/mendo/projects/python/ml_beginner/venv/lib/python3.10/site-packages/sklearn/linear_model/_logistic.py:469: ConvergenceWarning: lbfgs failed to converge (status=1):\n",
      "STOP: TOTAL NO. of ITERATIONS REACHED LIMIT.\n",
      "\n",
      "Increase the number of iterations (max_iter) or scale the data as shown in:\n",
      "    https://scikit-learn.org/stable/modules/preprocessing.html\n",
      "Please also refer to the documentation for alternative solver options:\n",
      "    https://scikit-learn.org/stable/modules/linear_model.html#logistic-regression\n",
      "  n_iter_i = _check_optimize_result(\n"
     ]
    }
   ],
   "source": [
    "LR_model = LogisticRegression(max_iter=1000)\n",
    "LR_model.fit(X_train, y_train)\n",
    "\n",
    "LR_y_train_pred = LR_model.predict(X_train)\n",
    "LR_y_test_pred = LR_model.predict(X_test)"
   ]
  },
  {
   "cell_type": "markdown",
   "metadata": {
    "id": "sC2h6BJZJtZK"
   },
   "source": [
    "submitter also try logistic regression"
   ]
  },
  {
   "cell_type": "markdown",
   "metadata": {
    "id": "PftwuqVeKvEg"
   },
   "source": [
    "### Decission Tree"
   ]
  },
  {
   "cell_type": "code",
   "execution_count": 7,
   "metadata": {
    "id": "Qp_LOAyNKuxE"
   },
   "outputs": [],
   "source": [
    "DT_model = DecisionTreeClassifier()\n",
    "DT_model.fit(X_train, y_train)\n",
    "\n",
    "DT_y_train_pred = DT_model.predict(X_train)\n",
    "DT_y_test_pred = DT_model.predict(X_test)"
   ]
  },
  {
   "cell_type": "markdown",
   "metadata": {
    "id": "ergzChZFEL-O"
   },
   "source": [
    "## **b. Evaluasi Model Klasifikasi**"
   ]
  },
  {
   "cell_type": "markdown",
   "metadata": {
    "id": "zOm68u-7NpLT"
   },
   "source": [
    "Berikut adalah **rekomendasi** tahapannya.\n",
    "1. Lakukan prediksi menggunakan data uji.\n",
    "2. Hitung metrik evaluasi seperti Accuracy dan F1-Score (Opsional: Precision dan Recall).\n",
    "3. Buat confusion matrix untuk melihat detail prediksi benar dan salah."
   ]
  },
  {
   "cell_type": "markdown",
   "metadata": {
    "id": "yHje8xvOFwMs"
   },
   "source": [
    "### random forest"
   ]
  },
  {
   "cell_type": "code",
   "execution_count": 8,
   "metadata": {
    "colab": {
     "base_uri": "https://localhost:8080/"
    },
    "id": "tMq4QAssNLip",
    "outputId": "1b00671e-ea95-4091-c7c9-ddd9af9e279f"
   },
   "outputs": [
    {
     "name": "stdout",
     "output_type": "stream",
     "text": [
      "Training Set Classification Report:\n",
      "              precision    recall  f1-score   support\n",
      "\n",
      "           0       1.00      1.00      1.00      2544\n",
      "           1       1.00      1.00      1.00      2213\n",
      "           2       1.00      1.00      1.00       268\n",
      "\n",
      "    accuracy                           1.00      5025\n",
      "   macro avg       1.00      1.00      1.00      5025\n",
      "weighted avg       1.00      1.00      1.00      5025\n",
      "\n",
      "--------------------------------------------------\n",
      "Test Set Classification Report:\n",
      "              precision    recall  f1-score   support\n",
      "\n",
      "           0       0.92      0.94      0.93       643\n",
      "           1       0.93      0.91      0.92       552\n",
      "           2       1.00      1.00      1.00        62\n",
      "\n",
      "    accuracy                           0.93      1257\n",
      "   macro avg       0.95      0.95      0.95      1257\n",
      "weighted avg       0.93      0.93      0.93      1257\n",
      "\n"
     ]
    }
   ],
   "source": [
    "\n",
    "print(\"Training Set Classification Report:\")\n",
    "print(classification_report(y_train, RF_y_train_pred))\n",
    "print( '-' * 50)\n",
    "print(\"Test Set Classification Report:\")\n",
    "print(classification_report(y_test, RF_y_test_pred))"
   ]
  },
  {
   "cell_type": "markdown",
   "metadata": {
    "id": "H4_9OwrsXZlz"
   },
   "source": [
    "evaluation results for the Random Forest algorithm shows that this model have the average as follow: accuracy of 90%, recall of 95% and f1-score of 95% as well."
   ]
  },
  {
   "cell_type": "markdown",
   "metadata": {
    "id": "hWtIiBP9JJ54"
   },
   "source": [
    "### logistic regression"
   ]
  },
  {
   "cell_type": "code",
   "execution_count": 9,
   "metadata": {
    "colab": {
     "base_uri": "https://localhost:8080/"
    },
    "id": "KiJPNLaoJPAm",
    "outputId": "ad75a94a-8169-4dd7-9f8a-839d6e54d1fa"
   },
   "outputs": [
    {
     "name": "stdout",
     "output_type": "stream",
     "text": [
      "Training Set Classification Report:\n",
      "              precision    recall  f1-score   support\n",
      "\n",
      "           0       0.65      0.73      0.69      2544\n",
      "           1       0.64      0.56      0.60      2213\n",
      "           2       1.00      1.00      1.00       268\n",
      "\n",
      "    accuracy                           0.67      5025\n",
      "   macro avg       0.76      0.76      0.76      5025\n",
      "weighted avg       0.67      0.67      0.66      5025\n",
      "\n",
      "--------------------------------------------------\n",
      "Test Set Classification Report:\n",
      "              precision    recall  f1-score   support\n",
      "\n",
      "           0       0.65      0.71      0.68       643\n",
      "           1       0.62      0.55      0.58       552\n",
      "           2       1.00      1.00      1.00        62\n",
      "\n",
      "    accuracy                           0.65      1257\n",
      "   macro avg       0.76      0.75      0.75      1257\n",
      "weighted avg       0.65      0.65      0.65      1257\n",
      "\n"
     ]
    }
   ],
   "source": [
    "print(\"Training Set Classification Report:\")\n",
    "print(classification_report(y_train, LR_y_train_pred))\n",
    "print( '-' * 50)\n",
    "print(\"Test Set Classification Report:\")\n",
    "print(classification_report(y_test, LR_y_test_pred))"
   ]
  },
  {
   "cell_type": "markdown",
   "metadata": {
    "id": "OHwkbMjoLZ7U"
   },
   "source": [
    "### Decission Tree"
   ]
  },
  {
   "cell_type": "code",
   "execution_count": 10,
   "metadata": {
    "colab": {
     "base_uri": "https://localhost:8080/"
    },
    "id": "rCuXHKcRLc78",
    "outputId": "89647485-cc67-4a4d-e5a6-9de191b522a8"
   },
   "outputs": [
    {
     "name": "stdout",
     "output_type": "stream",
     "text": [
      "Training Set Classification Report:\n",
      "              precision    recall  f1-score   support\n",
      "\n",
      "           0       1.00      1.00      1.00      2544\n",
      "           1       1.00      1.00      1.00      2213\n",
      "           2       1.00      1.00      1.00       268\n",
      "\n",
      "    accuracy                           1.00      5025\n",
      "   macro avg       1.00      1.00      1.00      5025\n",
      "weighted avg       1.00      1.00      1.00      5025\n",
      "\n",
      "--------------------------------------------------\n",
      "Test Set Classification Report:\n",
      "              precision    recall  f1-score   support\n",
      "\n",
      "           0       0.91      0.90      0.90       643\n",
      "           1       0.88      0.90      0.89       552\n",
      "           2       1.00      1.00      1.00        62\n",
      "\n",
      "    accuracy                           0.90      1257\n",
      "   macro avg       0.93      0.93      0.93      1257\n",
      "weighted avg       0.90      0.90      0.90      1257\n",
      "\n"
     ]
    }
   ],
   "source": [
    "print(\"Training Set Classification Report:\")\n",
    "print(classification_report(y_train, DT_y_train_pred))\n",
    "print( '-' * 50)\n",
    "print(\"Test Set Classification Report:\")\n",
    "print(classification_report(y_test, DT_y_test_pred))"
   ]
  },
  {
   "cell_type": "markdown",
   "metadata": {
    "id": "ph9yIYDXEPuB"
   },
   "source": [
    "## **c. Tuning Model Klasifikasi (Optional)**"
   ]
  },
  {
   "cell_type": "markdown",
   "metadata": {
    "id": "-Bikx3LINv5e"
   },
   "source": [
    "Gunakan GridSearchCV, RandomizedSearchCV, atau metode lainnya untuk mencari kombinasi hyperparameter terbaik"
   ]
  },
  {
   "cell_type": "code",
   "execution_count": 11,
   "metadata": {
    "id": "winbFzb8NL95"
   },
   "outputs": [],
   "source": [
    "#Type your code here"
   ]
  },
  {
   "cell_type": "markdown",
   "metadata": {
    "id": "hE7pqlEPEYzI"
   },
   "source": [
    "## **d. Evaluasi Model Klasifikasi setelah Tuning (Optional)**"
   ]
  },
  {
   "cell_type": "markdown",
   "metadata": {
    "id": "feaPESoeN0zz"
   },
   "source": [
    "Berikut adalah rekomendasi tahapannya.\n",
    "1. Gunakan model dengan hyperparameter terbaik.\n",
    "2. Hitung ulang metrik evaluasi untuk melihat apakah ada peningkatan performa."
   ]
  },
  {
   "cell_type": "code",
   "execution_count": 12,
   "metadata": {
    "id": "HTXZRvEeNMb1"
   },
   "outputs": [],
   "source": [
    "#Type your code here"
   ]
  },
  {
   "cell_type": "markdown",
   "metadata": {
    "id": "ZRsOdm4uEgAW"
   },
   "source": [
    "## **e. Analisis Hasil Evaluasi Model Klasifikasi**"
   ]
  },
  {
   "cell_type": "markdown",
   "metadata": {
    "id": "T-Am3OsjUbvd"
   },
   "source": [
    "submitter applying three different algorithm random forest, logistic and regression. Found that random forest and decission tree have perfect evaluation score on training set while logistic regression have the worst of three.\n",
    "result shows that random forest have a better evalution score overall by 95% average for each recall, precission, and f1-score followed by decission tree at 93% each."
   ]
  }
 ],
 "metadata": {
  "colab": {
   "provenance": [],
   "toc_visible": true
  },
  "kernelspec": {
   "display_name": "venv",
   "language": "python",
   "name": "python3"
  },
  "language_info": {
   "codemirror_mode": {
    "name": "ipython",
    "version": 3
   },
   "file_extension": ".py",
   "mimetype": "text/x-python",
   "name": "python",
   "nbconvert_exporter": "python",
   "pygments_lexer": "ipython3",
   "version": "3.10.12"
  }
 },
 "nbformat": 4,
 "nbformat_minor": 0
}
